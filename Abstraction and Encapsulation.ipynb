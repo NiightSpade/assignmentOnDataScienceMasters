{
 "cells": [
  {
   "cell_type": "markdown",
   "id": "852a21bf",
   "metadata": {},
   "source": [
    "# Abstraction and Encapsulation"
   ]
  },
  {
   "cell_type": "raw",
   "id": "bb003bf7",
   "metadata": {},
   "source": [
    "Q1. What is Abstraction in OOps? Explain with an example."
   ]
  },
  {
   "cell_type": "raw",
   "id": "90a522ac",
   "metadata": {},
   "source": [
    "Abstraction is a fundamental concept in object-oriented programming that refers to the process of hiding the implementation details of an object and only exposing the necessary information or interfaces. The idea is to create a simplified view of an object that allows users to interact with it without having to know the underlying implementation details.\n",
    "\n",
    "In Python, abstraction is typically achieved using abstract classes and interfaces. An abstract class is a class that cannot be instantiated directly and contains one or more abstract methods that must be implemented by any concrete subclasses. An interface, on the other hand, is a special type of abstract class that contains only abstract methods."
   ]
  },
  {
   "cell_type": "code",
   "execution_count": 5,
   "id": "d7342153",
   "metadata": {},
   "outputs": [
    {
     "name": "stdout",
     "output_type": "stream",
     "text": [
      "Woof!\n",
      "Meow!\n"
     ]
    }
   ],
   "source": [
    "from abc import ABC, abstractmethod\n",
    "\n",
    "class Animal(ABC):\n",
    "    @abstractmethod\n",
    "    def speak(self):\n",
    "        pass\n",
    "\n",
    "class Dog(Animal):\n",
    "    def speak(self):\n",
    "        return \"Woof!\"\n",
    "\n",
    "class Cat(Animal):\n",
    "    def speak(self):\n",
    "        return \"Meow!\"\n",
    "\n",
    "# create objects of concrete classes\n",
    "dog = Dog()\n",
    "cat = Cat()\n",
    "\n",
    "# call the speak method on each object\n",
    "print(dog.speak()) # Output: Woof!\n",
    "print(cat.speak()) # Output: Meow!\n"
   ]
  },
  {
   "cell_type": "raw",
   "id": "7b0491fa",
   "metadata": {},
   "source": [
    "Q2. Differentiate between Abstraction and Encapsulation. Explain with an example."
   ]
  },
  {
   "cell_type": "raw",
   "id": "070d4269",
   "metadata": {},
   "source": [
    "Abstraction and encapsulation are two important concepts in object-oriented programming, but they refer to different things.\n",
    "\n",
    "Abstraction refers to the process of hiding the implementation details of an object and only exposing the necessary information or interfaces. It is a way of creating a simplified view of an object that allows users to interact with it without having to know the underlying implementation details.\n",
    "\n",
    "Encapsulation, on the other hand, is the technique of wrapping data and code that acts on that data into a single unit. The idea is to protect the data from outside access and manipulation and provide controlled access to it through a public interface."
   ]
  },
  {
   "cell_type": "code",
   "execution_count": 7,
   "id": "7b7bbceb",
   "metadata": {},
   "outputs": [
    {
     "name": "stdout",
     "output_type": "stream",
     "text": [
      "50000\n"
     ]
    },
    {
     "ename": "AttributeError",
     "evalue": "'Employee' object has no attribute '__salary'",
     "output_type": "error",
     "traceback": [
      "\u001b[1;31m---------------------------------------------------------------------------\u001b[0m",
      "\u001b[1;31mAttributeError\u001b[0m                            Traceback (most recent call last)",
      "\u001b[1;32m~\\AppData\\Local\\Temp\\ipykernel_9508\\1326858104.py\u001b[0m in \u001b[0;36m<module>\u001b[1;34m\u001b[0m\n\u001b[0;32m     20\u001b[0m \u001b[1;33m\u001b[0m\u001b[0m\n\u001b[0;32m     21\u001b[0m \u001b[1;31m# trying to access salary directly (which is a private variable)\u001b[0m\u001b[1;33m\u001b[0m\u001b[1;33m\u001b[0m\u001b[0m\n\u001b[1;32m---> 22\u001b[1;33m \u001b[0mprint\u001b[0m\u001b[1;33m(\u001b[0m\u001b[0memp\u001b[0m\u001b[1;33m.\u001b[0m\u001b[0m__salary\u001b[0m\u001b[1;33m)\u001b[0m \u001b[1;31m# Output: AttributeError\u001b[0m\u001b[1;33m\u001b[0m\u001b[1;33m\u001b[0m\u001b[0m\n\u001b[0m\u001b[0;32m     23\u001b[0m \u001b[1;33m\u001b[0m\u001b[0m\n\u001b[0;32m     24\u001b[0m \u001b[1;31m# trying to set salary directly (which is a private variable)\u001b[0m\u001b[1;33m\u001b[0m\u001b[1;33m\u001b[0m\u001b[0m\n",
      "\u001b[1;31mAttributeError\u001b[0m: 'Employee' object has no attribute '__salary'"
     ]
    }
   ],
   "source": [
    "class Employee:\n",
    "    def __init__(self, name, salary):\n",
    "        self.name = name\n",
    "        self.__salary = salary # private variable\n",
    "\n",
    "    def get_salary(self):\n",
    "        return self.__salary\n",
    "\n",
    "    def set_salary(self, new_salary):\n",
    "        self.__salary = new_salary\n",
    "\n",
    "    def display_info(self):\n",
    "        print(f\"Name: {self.name}, Salary: {self.__salary}\")\n",
    "\n",
    "# create an object of the Employee class\n",
    "emp = Employee(\"John\", 50000)\n",
    "\n",
    "# accessing salary using the public interface provided by the class\n",
    "print(emp.get_salary()) # Output: 50000\n",
    "\n",
    "# trying to access salary directly (which is a private variable)\n",
    "print(emp.__salary) # Output: AttributeError\n",
    "\n",
    "# trying to set salary directly (which is a private variable)\n",
    "emp.__salary = 60000 # no effect\n",
    "\n",
    "# using the public interface to set the salary\n",
    "emp.set_salary(60000)\n",
    "\n",
    "# display the employee information\n",
    "emp.display_info() # Output: Name: John, Salary: 60000"
   ]
  },
  {
   "cell_type": "raw",
   "id": "baf2ba46",
   "metadata": {},
   "source": [
    "Q3. What is abc module in python? Why is it used?"
   ]
  },
  {
   "cell_type": "raw",
   "id": "16c5981f",
   "metadata": {},
   "source": [
    "The abc module in Python stands for \"Abstract Base Classes\". It provides a way to define abstract classes and interfaces in Python, similar to other object-oriented programming languages. Abstract classes are classes that cannot be instantiated and are only meant to be subclassed. They contain one or more abstract methods that must be implemented by any concrete subclasses.\n",
    "\n",
    "The abc module is used to implement and enforce the concept of abstraction in Python. It provides the ABC class, which is used as a metaclass to define abstract classes. The abstractmethod decorator is used to indicate that a method is abstract and must be implemented by any concrete subclasses."
   ]
  },
  {
   "cell_type": "code",
   "execution_count": 8,
   "id": "c668dbf5",
   "metadata": {},
   "outputs": [
    {
     "name": "stdout",
     "output_type": "stream",
     "text": [
      "20\n",
      "18\n",
      "28.259999999999998\n",
      "18.84\n"
     ]
    }
   ],
   "source": [
    "from abc import ABC, abstractmethod\n",
    "\n",
    "class Shape(ABC):\n",
    "    @abstractmethod\n",
    "    def area(self):\n",
    "        pass\n",
    "\n",
    "    @abstractmethod\n",
    "    def perimeter(self):\n",
    "        pass\n",
    "\n",
    "class Rectangle(Shape):\n",
    "    def __init__(self, length, width):\n",
    "        self.length = length\n",
    "        self.width = width\n",
    "\n",
    "    def area(self):\n",
    "        return self.length * self.width\n",
    "\n",
    "    def perimeter(self):\n",
    "        return 2 * (self.length + self.width)\n",
    "\n",
    "class Circle(Shape):\n",
    "    def __init__(self, radius):\n",
    "        self.radius = radius\n",
    "\n",
    "    def area(self):\n",
    "        return 3.14 * self.radius * self.radius\n",
    "\n",
    "    def perimeter(self):\n",
    "        return 2 * 3.14 * self.radius\n",
    "\n",
    "# create objects of concrete classes\n",
    "rect = Rectangle(4, 5)\n",
    "circle = Circle(3)\n",
    "\n",
    "# call the area and perimeter methods on each object\n",
    "print(rect.area()) # Output: 20\n",
    "print(rect.perimeter()) # Output: 18\n",
    "print(circle.area()) # Output: 28.26\n",
    "print(circle.perimeter()) # Output: 18.84"
   ]
  },
  {
   "cell_type": "raw",
   "id": "faf8695d",
   "metadata": {},
   "source": [
    "Q4. How can we achieve data abstraction?"
   ]
  },
  {
   "cell_type": "raw",
   "id": "1ed4cda0",
   "metadata": {},
   "source": [
    "Steps to achieve data abstraction in Python:\n",
    "\n",
    "Define a class with attributes and methods that represent the data and functionality you want to abstract.\n",
    "\n",
    "Use access modifiers such as private and protected to restrict access to attributes and methods. Private attributes and methods can only be accessed within the class, while protected attributes and methods can be accessed within the class and its subclasses.\n",
    "\n",
    "Provide public methods that allow users to interact with the class without accessing its implementation details. These methods should use the private and protected attributes and methods to perform their tasks."
   ]
  },
  {
   "cell_type": "raw",
   "id": "07cc0ad3",
   "metadata": {},
   "source": [
    "Q5. Can we create an instance of an abstract class? Explain your answer."
   ]
  },
  {
   "cell_type": "raw",
   "id": "bf1d3849",
   "metadata": {},
   "source": [
    "No, we cannot create an instance of an abstract class in Python.\n",
    "\n",
    "An abstract class is a class that is meant to be subclassed and its methods are meant to be overridden by the subclass. Abstract classes are created using the abc module in Python, and they have at least one abstract method that does not have an implementation.\n",
    "\n",
    "Attempting to create an instance of an abstract class in Python will result in a TypeError because abstract classes are incomplete and cannot be instantiated."
   ]
  }
 ],
 "metadata": {
  "kernelspec": {
   "display_name": "Python 3 (ipykernel)",
   "language": "python",
   "name": "python3"
  },
  "language_info": {
   "codemirror_mode": {
    "name": "ipython",
    "version": 3
   },
   "file_extension": ".py",
   "mimetype": "text/x-python",
   "name": "python",
   "nbconvert_exporter": "python",
   "pygments_lexer": "ipython3",
   "version": "3.9.13"
  }
 },
 "nbformat": 4,
 "nbformat_minor": 5
}
