{
 "cells": [
  {
   "cell_type": "markdown",
   "id": "6487958b",
   "metadata": {},
   "source": [
    "# Python"
   ]
  },
  {
   "cell_type": "markdown",
   "id": "019339d7",
   "metadata": {},
   "source": [
    "1.Who developed python programming language?"
   ]
  },
  {
   "cell_type": "markdown",
   "id": "309e54a7",
   "metadata": {},
   "source": [
    "Python programming language was developed by Guido van Rossum in the late 1980s and early 1990s. Guido van Rossum was a Dutch computer scientist who worked at the National Research Institute for Mathematics and Computer Science in the Netherlands (CWI). He created Python as a hobby project to create a language that was easy to learn, had a clean syntax, and could be used for various programming tasks, including system administration, automation, and scientific computing."
   ]
  },
  {
   "cell_type": "markdown",
   "id": "5c28e369",
   "metadata": {},
   "source": [
    "--------------------------------------------------------------------------------------------------------------------------------"
   ]
  },
  {
   "cell_type": "markdown",
   "id": "0aab563a",
   "metadata": {},
   "source": [
    "2.Which type of programming does Python support?"
   ]
  },
  {
   "cell_type": "markdown",
   "id": "73cb9a80",
   "metadata": {},
   "source": [
    "Python is a general-purpose programming language that supports multiple programming paradigms, including:\n",
    "\n",
    "Procedural programming: This is the traditional way of programming where a program is broken down into smaller, reusable functions or procedures that perform specific tasks.\n",
    "\n",
    "Object-oriented programming (OOP): Python supports OOP, which allows programmers to create and manipulate objects that contain data and behavior.\n",
    "\n",
    "Functional programming: Python supports functional programming, which emphasizes the use of pure functions and immutable data structures to write concise and predictable code.\n",
    "\n",
    "Aspect-oriented programming (AOP): Python supports AOP, which allows programmers to separate cross-cutting concerns, such as logging, performance monitoring, and security, from the main logic of a program.\n",
    "\n",
    "Scripting: Python is often used as a scripting language to automate tasks, process data, and manipulate files.\n",
    "\n",
    "Web development: Python has many frameworks, such as Django and Flask, that make it easy to develop web applications.\n",
    "\n",
    "Machine learning: Python has many libraries, such as TensorFlow, PyTorch, and scikit-learn, that make it easy to develop and train machine learning models."
   ]
  },
  {
   "cell_type": "markdown",
   "id": "aa6470b8",
   "metadata": {},
   "source": [
    "--------------------------------------------------------------------------------------------------------------------------------"
   ]
  },
  {
   "cell_type": "markdown",
   "id": "8e70eab9",
   "metadata": {},
   "source": [
    "3.Is Python case sensitive when dealing with identifiers?"
   ]
  },
  {
   "cell_type": "markdown",
   "id": "15a0ac90",
   "metadata": {},
   "source": [
    "Yes, Python is a case-sensitive language when dealing with identifiers."
   ]
  },
  {
   "cell_type": "markdown",
   "id": "b73df417",
   "metadata": {},
   "source": [
    "--------------------------------------------------------------------------------------------------------------------------------"
   ]
  },
  {
   "cell_type": "markdown",
   "id": "a6a2526f",
   "metadata": {},
   "source": [
    "4.What is the correct extension of the Python file?"
   ]
  },
  {
   "cell_type": "markdown",
   "id": "c5aab1da",
   "metadata": {},
   "source": [
    "The correct extension for a Python file is .py."
   ]
  },
  {
   "cell_type": "markdown",
   "id": "c7cda505",
   "metadata": {},
   "source": [
    "--------------------------------------------------------------------------------------------------------------------------------"
   ]
  },
  {
   "cell_type": "markdown",
   "id": "af991a72",
   "metadata": {},
   "source": [
    "5.Is Python code compiled or interpreted?"
   ]
  },
  {
   "cell_type": "markdown",
   "id": "ac51b2ba",
   "metadata": {},
   "source": [
    "Python code is interpreted and not compiled."
   ]
  },
  {
   "cell_type": "markdown",
   "id": "755f4341",
   "metadata": {},
   "source": [
    "--------------------------------------------------------------------------------------------------------------------------------"
   ]
  },
  {
   "cell_type": "markdown",
   "id": "bf315883",
   "metadata": {},
   "source": [
    "6.Name a few blocks of code used to define in Python Langugae?"
   ]
  },
  {
   "cell_type": "markdown",
   "id": "3843f0ef",
   "metadata": {},
   "source": [
    "Functions: A function is a block of reusable code that performs a specific task. Functions are defined using the def keyword, followed by the function name, parentheses, and a colon. The body of the function is indented below the function definition. \n",
    "\n",
    "Classes: A class is a blueprint for creating objects that encapsulates data and behavior. Classes are defined using the class keyword, followed by the class name and a colon. The body of the class is indented below the class definition.\n",
    "\n",
    "Conditional statements: Conditional statements allow us to execute different blocks of code depending on whether a condition is true or false. Conditional statements are defined using the if, elif, and else keywords.\n",
    "\n",
    "Loops: Loops allow us to repeat a block of code multiple times. Python has two main loop constructs: for loops and while loops. \n",
    "\n",
    "Context managers: Context managers allow us to define a block of code that is executed with a specific context, such as opening and closing a file or acquiring and releasing a lock. Context managers are defined using the with keyword."
   ]
  },
  {
   "cell_type": "markdown",
   "id": "4ff8892f",
   "metadata": {},
   "source": [
    "--------------------------------------------------------------------------------------------------------------------------------"
   ]
  },
  {
   "cell_type": "markdown",
   "id": "57bad97a",
   "metadata": {},
   "source": [
    "7.State a character used to give single-line comments in Python?"
   ]
  },
  {
   "cell_type": "markdown",
   "id": "bbd43b5f",
   "metadata": {},
   "source": [
    "In Python, we use the # character to add single-line comments in our code."
   ]
  },
  {
   "cell_type": "markdown",
   "id": "a6cee310",
   "metadata": {},
   "source": [
    "--------------------------------------------------------------------------------------------------------------------------------"
   ]
  },
  {
   "cell_type": "markdown",
   "id": "bf4d830a",
   "metadata": {},
   "source": [
    "8.Mention functions which can help us to find the version of python that we are currently working on?"
   ]
  },
  {
   "cell_type": "markdown",
   "id": "b40f9594",
   "metadata": {},
   "source": [
    "There are several ways to find the version of Python that you are currently working on:\n",
    "\n",
    "1.Using the sys module: You can use the sys module to get information about the Python interpreter. The sys module provides a version attribute that returns the version number as a string. \n",
    "Here's an example:"
   ]
  },
  {
   "cell_type": "code",
   "execution_count": 3,
   "id": "abc6de1c",
   "metadata": {},
   "outputs": [
    {
     "name": "stdout",
     "output_type": "stream",
     "text": [
      "Python version: 3.9.13 (main, Aug 25 2022, 23:51:50) [MSC v.1916 64 bit (AMD64)]\n"
     ]
    }
   ],
   "source": [
    "import sys\n",
    "\n",
    "print(\"Python version:\", sys.version)"
   ]
  },
  {
   "cell_type": "markdown",
   "id": "12f663cf",
   "metadata": {},
   "source": [
    "2.Using the platform module: You can also use the platform module to get information about the system and the Python implementation. The platform module provides a python_version() function that returns the version number as a string. \n",
    "Here's an example:"
   ]
  },
  {
   "cell_type": "code",
   "execution_count": 5,
   "id": "eee38f62",
   "metadata": {},
   "outputs": [
    {
     "name": "stdout",
     "output_type": "stream",
     "text": [
      "Python version: 3.9.13\n"
     ]
    }
   ],
   "source": [
    "import platform\n",
    "\n",
    "print(\"Python version:\", platform.python_version())"
   ]
  },
  {
   "cell_type": "markdown",
   "id": "376a9734",
   "metadata": {},
   "source": [
    "--------------------------------------------------------------------------------------------------------------------------------"
   ]
  },
  {
   "cell_type": "markdown",
   "id": "fe934838",
   "metadata": {},
   "source": [
    "9.Python supports the creation of anonymous functions at runtime, using a construct called --------------"
   ]
  },
  {
   "cell_type": "markdown",
   "id": "a381009c",
   "metadata": {},
   "source": [
    "Python supports the creation of anonymous functions at runtime, using a construct called lambda functions.\n",
    "\n",
    "A lambda function is a small, anonymous function that can have any number of arguments but can only have one expression. \n",
    "\n",
    "The syntax for creating a lambda function is as follows:\n",
    "\n",
    "lambda arguments: expression"
   ]
  },
  {
   "cell_type": "markdown",
   "id": "b329aede",
   "metadata": {},
   "source": [
    "--------------------------------------------------------------------------------------------------------------------------------"
   ]
  },
  {
   "cell_type": "markdown",
   "id": "6f99b51e",
   "metadata": {},
   "source": [
    "10.What does pip stand for python?"
   ]
  },
  {
   "cell_type": "markdown",
   "id": "e8047aad",
   "metadata": {},
   "source": [
    "pip stands for \"Pip Installs Packages\"."
   ]
  },
  {
   "cell_type": "markdown",
   "id": "90d46495",
   "metadata": {},
   "source": [
    "11.Mention a few built-in functions in python?"
   ]
  },
  {
   "cell_type": "markdown",
   "id": "2d2ad8b2",
   "metadata": {},
   "source": [
    "Python has several built-in functions that are available for use without the need for importing any external module or library. Here are some of the most commonly used built-in functions in Python:\n",
    "\n",
    "print(): This function is used to display output on the console.\n",
    "\n",
    "len(): This function is used to get the length of an object, such as a string or list.\n",
    "\n",
    "input(): This function is used to get input from the user.\n",
    "\n",
    "str(): This function is used to convert an object into a string.\n",
    "\n",
    "int(): This function is used to convert an object into an integer.\n",
    "\n",
    "float(): This function is used to convert an object into a float.\n",
    "\n",
    "range(): This function is used to generate a sequence of numbers.\n",
    "\n",
    "type(): This function is used to get the type of an object.\n",
    "\n",
    "max(): This function is used to get the maximum value from a sequence of values.\n",
    "\n",
    "min(): This function is used to get the minimum value from a sequence of values."
   ]
  },
  {
   "cell_type": "markdown",
   "id": "8817925b",
   "metadata": {},
   "source": [
    "12.What is the maximum possible length of an identifier in Python?"
   ]
  },
  {
   "cell_type": "markdown",
   "id": "c1db8fc9",
   "metadata": {},
   "source": [
    "In Python, the maximum possible length of an identifier (variable, function, class name, etc.) is not specified, but it is limited by the available memory in your system."
   ]
  },
  {
   "cell_type": "markdown",
   "id": "220a0c71",
   "metadata": {},
   "source": [
    "13.What are the benefits of using Python?"
   ]
  },
  {
   "cell_type": "markdown",
   "id": "354f7af5",
   "metadata": {},
   "source": [
    "Python is a popular high-level programming language that is widely used for a variety of applications. Here are some of the benefits of using Python:\n",
    "\n",
    "Easy to learn: Python has a simple and easy-to-understand syntax that makes it easy for beginners to learn and understand.\n",
    "\n",
    "Readability: Python code is highly readable, which makes it easier for others to understand and maintain the code.\n",
    "\n",
    "Large standard library: Python has a large standard library that provides a wide range of useful modules and functions for various tasks, making it easier to build complex applications.\n",
    "\n",
    "Platform-independent: Python is a platform-independent language, which means that Python code can run on any operating system, including Windows, Mac, and Linux.\n",
    "\n",
    "Rapid development: Python's simple syntax and ease of use make it ideal for rapid prototyping and development of applications.\n",
    "\n",
    "Community support: Python has a large and active community of developers who contribute to the development of new modules, libraries, and frameworks, and provide support to new users.\n",
    "\n",
    "Versatility: Python can be used for a wide range of applications, from web development to data analysis, scientific computing, machine learning, and more."
   ]
  },
  {
   "cell_type": "markdown",
   "id": "7b8f4390",
   "metadata": {},
   "source": [
    "14.How is memory managed in Python?"
   ]
  },
  {
   "cell_type": "markdown",
   "id": "9b70ad9c",
   "metadata": {},
   "source": [
    "Memory management in Python is handled automatically by the Python interpreter through a mechanism called \"garbage collection\". Garbage collection is the process of identifying and freeing up memory that is no longer in use by the program.\n",
    "\n",
    "Python uses a reference counting mechanism to keep track of the number of references to an object in memory. Each time an object is assigned to a new variable, its reference count is incremented. When a variable goes out of scope or is deleted, its reference count is decremented. When an object's reference count reaches zero, it is considered to be no longer in use, and its memory is freed up by the garbage collector.\n",
    "\n",
    "In addition to reference counting, Python also uses a generational garbage collection algorithm, which divides objects into three generations based on how long they have been in memory. Newly created objects are placed in the first generation, and if they survive a garbage collection cycle, they are moved to the second generation. Objects that survive multiple cycles are eventually moved to the third generation.\n",
    "\n",
    "The generational garbage collection algorithm is designed to optimize the garbage collection process by focusing on the objects that are most likely to be garbage, while minimizing the overhead of scanning the entire memory space.\n",
    "\n",
    "Overall, memory management in Python is handled automatically by the interpreter, which makes it easier for developers to write code without having to worry about memory allocation and deallocation."
   ]
  },
  {
   "cell_type": "markdown",
   "id": "e79f17f3",
   "metadata": {},
   "source": [
    "15.How to install Python on Windows and set path variables?"
   ]
  },
  {
   "cell_type": "markdown",
   "id": "dc21a280",
   "metadata": {},
   "source": [
    "Here are the steps to install Python on Windows and set path variables:\n",
    "\n",
    "1.Go to the official Python website (https://www.python.org/downloads/windows/) and download the latest version of Python for Windows.\n",
    "\n",
    "2.Run the downloaded installer file and follow the installation wizard to install Python on your system. Make sure to select the option to add Python to the PATH environment variable during the installation process.\n",
    "\n",
    "3.Once the installation is complete, open the command prompt (press Windows key + R, type \"cmd\", and press Enter) and type \"python\" to check if Python has been installed correctly. You should see the Python version number printed in the console.\n",
    "\n",
    "4.If Python is not recognized as a command in the command prompt, you need to set the PATH environment variable manually. To do this, go to \"Control Panel\" -> \"System and Security\" -> \"System\" -> \"Advanced system settings\" -> \"Environment Variables\".\n",
    "\n",
    "5.In the Environment Variables window, scroll down to \"System variables\" and select \"Path\", then click on \"Edit\".\n",
    "\n",
    "6.Click on \"New\" and add the path to the Python installation directory (usually C:\\PythonXX, where XX is the version number).\n",
    "\n",
    "7.Click \"OK\" to save the changes and close all windows.\n",
    "\n",
    "8.Open a new command prompt window and type \"python\" to check if Python has been added to the PATH environment variable correctly.\n",
    "\n",
    "That's it! You have now installed Python on Windows and set the PATH environment variable. You can start using Python by opening the command prompt and typing \"python\" to enter the Python interactive shell."
   ]
  },
  {
   "cell_type": "markdown",
   "id": "d516be67",
   "metadata": {},
   "source": [
    "16.Is indentation required in Python?"
   ]
  },
  {
   "cell_type": "markdown",
   "id": "f813eec8",
   "metadata": {},
   "source": [
    "Yes, indentation is required in Python."
   ]
  }
 ],
 "metadata": {
  "kernelspec": {
   "display_name": "Python 3 (ipykernel)",
   "language": "python",
   "name": "python3"
  },
  "language_info": {
   "codemirror_mode": {
    "name": "ipython",
    "version": 3
   },
   "file_extension": ".py",
   "mimetype": "text/x-python",
   "name": "python",
   "nbconvert_exporter": "python",
   "pygments_lexer": "ipython3",
   "version": "3.9.13"
  }
 },
 "nbformat": 4,
 "nbformat_minor": 5
}
