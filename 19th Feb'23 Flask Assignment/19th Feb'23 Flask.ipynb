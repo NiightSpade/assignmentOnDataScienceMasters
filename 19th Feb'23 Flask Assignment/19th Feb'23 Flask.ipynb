{
 "cells": [
  {
   "cell_type": "markdown",
   "id": "9a5e56a3-03d2-4734-83b2-456ab9a23dd7",
   "metadata": {},
   "source": [
    "Q1. What is Flask Framework? What are the advantages of Flask Framework?"
   ]
  },
  {
   "cell_type": "markdown",
   "id": "b1aca112-0928-4e42-be2c-c99ecc26c2b4",
   "metadata": {},
   "source": [
    "Flask is a micro web framework for Python, known for its simplicity and flexibility. It allows developers to create web applications by defining URL routes, handling HTTP methods, using templates, and adding extensions as needed. Flask's minimalist design empowers developers to make architectural choices, making it an excellent choice for small to medium-sized web applications, RESTful APIs, and projects where a lightweight and customizable framework is desired.\n",
    "\n",
    "Advantges of Flask Framework:-\n",
    "\n",
    "Simplicity: Flask's minimalist design and unobtrusive structure make it easy to learn and use, especially for beginners and developers who prefer a lightweight framework.\r\n",
    "\r\n",
    "Flexibility: Flask allows developers to choose and integrate components as needed, giving them greater control over the architecture of their web applications.\r\n",
    "\r\n",
    "Routing: Flask provides a straightforward and efficient way to define URL routes, making it easy to create custom URLs and map them to specific functions.\r\n",
    "\r\n",
    "HTTP Methods: Flask supports common HTTP methods (GET, POST, PUT, DELETE), making it suitable for building RESTful APIs and web services.\r\n",
    "\r\n",
    "Jinja2 Templates: Built-in support for Jinja2 templates enables the separation of logic and presentation, making it easier to create dynamic web pages.\r\n",
    "\r\n",
    "Extensibility: Flask's ecosystem of third-party extensions allows developers to add features like authentication, database integration, and more, without reinventing the wheel.\r\n",
    "\r\n",
    "Werkzeug Integration: Flask is built on Werkzeug, which provides a solid foundation for handling low-level HTTP request and response tasks.\r\n",
    "\r\n",
    "Development Server: Flask comes with a built-in development server, simplifying the testing and debugging of applications during development.\r\n",
    "\r\n",
    "Lightweight: Flask is well-suited for small to medium-sized applications and projects where a minimalistic and customizable approach is preferred.\r\n",
    "\r\n",
    "Community and Resources: Flask has an active and supportive community, with a wealth of tutorials, documentation, and extensions available.\r\n",
    "\r\n",
    "Scalability: While Flask is often associated with small projects, it can be used as the foundation for larger applications, provided developers make the right ar\n",
    "hitectural choices.\r\n",
    "\r\n",
    "Open Source: Flask is open-source and free to use, making it accessible to developers of all backgrounds.pers of all backgrounds.and developer preferences."
   ]
  },
  {
   "cell_type": "markdown",
   "id": "ba34cb19-131d-4a4d-95a2-3c293fec1e80",
   "metadata": {},
   "source": [
    "Q2. Create a simple Flask application to display ‘Hello World!!’. Attach the screenshot of the output in\n",
    "Jupyter Notebook."
   ]
  },
  {
   "cell_type": "code",
   "execution_count": null,
   "id": "12bcd1c6-a827-4650-80c9-c9e1c8a2e721",
   "metadata": {},
   "outputs": [],
   "source": [
    "from flask import Flask\n",
    "\n",
    "app = Flask(__name__)\n",
    "\n",
    "@app.route(\"/\")\n",
    "def hello_world():\n",
    "    return \"<h1>Hello World!!</h1>\"\n",
    "\n",
    "if __name__==\"__main__\":\n",
    "    app.run(host=\"0.0.0.0\")\n"
   ]
  },
  {
   "cell_type": "markdown",
   "id": "f815672b-39d2-42b0-92b1-7872dfe3e679",
   "metadata": {},
   "source": [
    "<img src=\"https://raw.githubusercontent.com/NiightSpade/19th-Feb-23-Flask-Assignment/main/image/Assignment1.png\" style=\"width:720px;height:480px\">\n"
   ]
  },
  {
   "cell_type": "markdown",
   "id": "7cc74313-91f6-49bf-8627-a2d866ec7d10",
   "metadata": {},
   "source": [
    "Q3. What is App routing in Flask? Why do we use app routes?"
   ]
  },
  {
   "cell_type": "markdown",
   "id": "329866f6-d3bf-4314-b46d-b7dd275471aa",
   "metadata": {},
   "source": [
    "App routing in Flask is the process of defining URL patterns and mapping them to specific functions or views in a Flask web application. It allows developers to determine how different URLs should be handled, directing incoming requests to the appropriate Python functions that generate responses. Flask's routing system is typically achieved using decorators, such as `@app.route('/example')`, which specifies the URL and associates it with a particular view function, enabling the application to respond to various routes with the appropriate content or actions. This mechanism is fundamental for creating dynamic and interactive web applications in Flask.\n",
    "\n",
    "App routes are used to define how different URLs should be handled in a web application, allowing for the mapping of URLs to specific functions or views. They serve as a fundamental component in web development frameworks like Flask to ensure that when a user accesses a particular URL, the application knows which function should be executed to generate the corresponding response. This enables the creation of organized and structured web applications, ensuring that different parts of the application respond to distinct URLs, making the development of dynamic and interactive web pages more manageable and user-friendly."
   ]
  },
  {
   "cell_type": "markdown",
   "id": "0ed92ec1-ce08-48ea-9cd2-abe02b0943eb",
   "metadata": {},
   "source": [
    "Q4.  Create a “/welcome” route to display the welcome message “Welcome to ABC Corporation” and a “/”\n",
    "route to show the following details:\n",
    "\n",
    "    Company Name: ABC Corporation\n",
    "\n",
    "    Location: India\n",
    "\n",
    "    Contact Detail: 999-999-9999 "
   ]
  },
  {
   "cell_type": "code",
   "execution_count": null,
   "id": "15a09395-353e-49ee-b2cd-fcc1f7895c31",
   "metadata": {},
   "outputs": [],
   "source": [
    "\"\"\"\n",
    "<!DOCTYPE html>\n",
    "<html>\n",
    "<head>\n",
    "    <title>ABC Corp.</title>\n",
    "</head>\n",
    "<body>\n",
    "    <p>Company Name: ABC Corporation</p>\n",
    "    <p>Location: India</p>\n",
    "    <p>Contact Detail: 999-999-9999</p>\n",
    "</body>\n",
    "</html>\n",
    "\"\"\"\n",
    "\n",
    "from flask import Flask, render_template\n",
    "\n",
    "app = Flask(__name__)\n",
    "\n",
    "@app.route(\"/\")\n",
    "def home_page():\n",
    "    return render_template(\"index.html\")\n",
    "    \n",
    "@app.route(\"/welcome\")\n",
    "def hello_world():\n",
    "    return \"Welcome to ABC Corporation\"\n",
    "\n",
    "if __name__==\"__main__\":\n",
    "    app.run(host=\"0.0.0.0\")"
   ]
  },
  {
   "cell_type": "markdown",
   "id": "8a53a58e-9544-4f50-a164-d86090cac9eb",
   "metadata": {},
   "source": [
    "<img src=\"https://raw.githubusercontent.com/NiightSpade/19th-Feb-23-Flask-Assignment/main/image/Assignment2.png\" style=\"width:720px;height:480px\">"
   ]
  },
  {
   "cell_type": "markdown",
   "id": "e0c24e43-8778-4499-bfcf-6147a1177a6a",
   "metadata": {},
   "source": [
    "Q5. What function is used in Flask for URL Building? Write a Python code to demonstrate the working of the\n",
    "url_for() function."
   ]
  },
  {
   "cell_type": "markdown",
   "id": "b9761658-d67c-4d2b-9761-2b4c07c9d4c4",
   "metadata": {},
   "source": [
    "In Flask, the function used for URL building is url_for(). It dynamically generates URLs for specific routes defined in your Flask application, allowing you to maintain consistency and flexibility in your web application by referencing route names rather than hardcoding URLs, making it easier to manage and update the application's routing structure."
   ]
  },
  {
   "cell_type": "code",
   "execution_count": null,
   "id": "3b3a0733-a479-4e00-bf5b-5c01cc972a8e",
   "metadata": {},
   "outputs": [],
   "source": [
    "from flask import Flask, url_for\n",
    "\n",
    "app = Flask(__name)\n",
    "\n",
    "@app.route('/')\n",
    "def index():\n",
    "    return 'This is the home page.'\n",
    "\n",
    "@app.route('/user/<username>')\n",
    "def user_profile(username):\n",
    "    return f'Hello, {username}!'\n",
    "\n",
    "if __name__ == '__main__':\n",
    "    with app.test_request_context():\n",
    "        # Using url_for to build URLs\n",
    "        home_url = url_for('index')\n",
    "        user_url = url_for('user_profile', username='NiightSpade')\n",
    "        print(f'Home URL: {home_url}')\n",
    "        print(f'User Profile URL: {user_url}')"
   ]
  }
 ],
 "metadata": {
  "kernelspec": {
   "display_name": "Python 3 (ipykernel)",
   "language": "python",
   "name": "python3"
  },
  "language_info": {
   "codemirror_mode": {
    "name": "ipython",
    "version": 3
   },
   "file_extension": ".py",
   "mimetype": "text/x-python",
   "name": "python",
   "nbconvert_exporter": "python",
   "pygments_lexer": "ipython3",
   "version": "3.10.6"
  }
 },
 "nbformat": 4,
 "nbformat_minor": 5
}
