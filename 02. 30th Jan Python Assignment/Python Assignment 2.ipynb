{
 "cells": [
  {
   "cell_type": "markdown",
   "id": "ec7de9ec",
   "metadata": {},
   "source": [
    "# Python Assignment 2"
   ]
  },
  {
   "cell_type": "markdown",
   "id": "1b3b67da",
   "metadata": {},
   "source": [
    "1.Write a program to accept percentage from the user and display the grade according to the following criteria:"
   ]
  },
  {
   "cell_type": "code",
   "execution_count": 1,
   "id": "1ca861ae",
   "metadata": {},
   "outputs": [
    {
     "name": "stdout",
     "output_type": "stream",
     "text": [
      "Please enter your grade.\n",
      "60\n",
      "C\n"
     ]
    }
   ],
   "source": [
    "while(True):\n",
    "    grade = int(input(\"Please enter your grade.\\n\"))\n",
    "    \n",
    "    if grade in range(0,101):\n",
    "        break\n",
    "\n",
    "    \n",
    "if grade > 90:\n",
    "    print(\"A\")\n",
    "elif grade > 80 and grade <= 90:\n",
    "    print(\"B\")\n",
    "elif grade >= 60 and grade <= 80:\n",
    "    print(\"C\")\n",
    "else:\n",
    "    print(\"D\")"
   ]
  },
  {
   "cell_type": "markdown",
   "id": "82d80263",
   "metadata": {},
   "source": [
    "2.Write a program to accept the cost price of a bike and display the road tax to be paid according to the following criteria:"
   ]
  },
  {
   "cell_type": "code",
   "execution_count": 2,
   "id": "e4823fb1",
   "metadata": {},
   "outputs": [
    {
     "name": "stdout",
     "output_type": "stream",
     "text": [
      "Enter the cost price.\n",
      "60000\n",
      "Tax = 10%\n"
     ]
    }
   ],
   "source": [
    "cost_price = float(input(\"Enter the cost price.\\n\"))\n",
    "\n",
    "if cost_price > 100000:\n",
    "    print(\"Tax = 15%\")\n",
    "elif cost_price > 50000 and cost_price <= 100000:\n",
    "    print(\"Tax = 10%\")\n",
    "else:\n",
    "    print(\"Tax 5%\")"
   ]
  },
  {
   "cell_type": "markdown",
   "id": "07209306",
   "metadata": {},
   "source": [
    "3.Accept any city from the user and display monuments of that city."
   ]
  },
  {
   "cell_type": "code",
   "execution_count": 7,
   "id": "f8bdee87",
   "metadata": {},
   "outputs": [
    {
     "name": "stdout",
     "output_type": "stream",
     "text": [
      "Select city from the following:\n",
      "1.Delhi\n",
      "2.Agra\n",
      "3.Jaipur\n",
      "lucknow\n",
      "Select city from the following:\n",
      "1.Delhi\n",
      "2.Agra\n",
      "3.Jaipur\n",
      "agra\n",
      "\n",
      "Agra --> Taj Mahal\n"
     ]
    }
   ],
   "source": [
    "while(True):\n",
    "    city = input(\"Select city from the following:\\n1.Delhi\\n2.Agra\\n3.Jaipur\\n\")\n",
    "    \n",
    "    if city.lower() in [\"delhi\", \"agra\", \"jaipur\"]:\n",
    "        break\n",
    "        \n",
    "if city.lower() == \"delhi\":\n",
    "    print(\"\\nDelhi --> Red Fort\")\n",
    "elif city.lower() == \"agra\":\n",
    "    print(\"\\nAgra --> Taj Mahal\")\n",
    "else:\n",
    "    print(\"\\nJaipur --> Jal Mahal\")"
   ]
  },
  {
   "cell_type": "markdown",
   "id": "4b350e22",
   "metadata": {},
   "source": [
    "4.Check how many times a given number can be divided by 3 before it is less than or equal to 10."
   ]
  },
  {
   "cell_type": "code",
   "execution_count": 15,
   "id": "664bca14",
   "metadata": {},
   "outputs": [
    {
     "name": "stdout",
     "output_type": "stream",
     "text": [
      "Enter the number:\n",
      "45\n",
      "The given number was divide 2 times.\n"
     ]
    }
   ],
   "source": [
    "number = float(input(\"Enter the number:\\n\"))\n",
    "count = 0\n",
    "\n",
    "while(True):\n",
    "    number /= 3\n",
    "    count += 1\n",
    "    if number <= 10:\n",
    "        break\n",
    "        \n",
    "print(f\"The given number was divide {count} times.\")"
   ]
  },
  {
   "cell_type": "markdown",
   "id": "01ee6d2a",
   "metadata": {},
   "source": [
    "5.Why and when to use while loop in Python give a detailed description with example."
   ]
  },
  {
   "cell_type": "markdown",
   "id": "569f5462",
   "metadata": {},
   "source": [
    "Here are some situations where you might use a while loop in Python:\n",
    "\n",
    "1.Repeating code until a condition is met: If you need to repeatedly execute a block of code until a certain condition is met, a while loop is a good choice. For example, you might use a while loop to ask the user for input until they enter a valid value.\n",
    "\n",
    "2.Iterating over a sequence of unknown length: If you don't know how many times you need to iterate over a sequence, you can use a while loop to keep looping until you've processed all the elements. For example, you might use a while loop to read lines from a file until the end of the file is reached.\n",
    "\n",
    "3.Creating an infinite loop: Sometimes you might want to create a loop that runs indefinitely until it is manually interrupted. In this case, you can use a while True loop.\n",
    "\n",
    "4.Modifying a variable until a condition is met: You might use a while loop to modify a variable until it meets a certain condition. For example, you could use a while loop to calculate the factorial of a number."
   ]
  },
  {
   "cell_type": "markdown",
   "id": "9654d857",
   "metadata": {},
   "source": [
    "--------------------------------------------------------------------------------------------------------------------------------"
   ]
  },
  {
   "cell_type": "markdown",
   "id": "3cd5bb24",
   "metadata": {},
   "source": [
    "6.Use nested while loop to print 3 different pattern."
   ]
  },
  {
   "cell_type": "code",
   "execution_count": 26,
   "id": "d90453a8",
   "metadata": {},
   "outputs": [
    {
     "name": "stdout",
     "output_type": "stream",
     "text": [
      "*\n",
      "**\n",
      "***\n",
      "****\n",
      "*****\n"
     ]
    }
   ],
   "source": [
    "i = 0\n",
    "while(i < 5):\n",
    "    j = 0\n",
    "    while(j < i):\n",
    "        print(\"*\",end=\"\")\n",
    "        j += 1\n",
    "    print()\n",
    "    i += 1"
   ]
  },
  {
   "cell_type": "code",
   "execution_count": 27,
   "id": "3f5f064a",
   "metadata": {},
   "outputs": [
    {
     "name": "stdout",
     "output_type": "stream",
     "text": [
      "*****\n",
      "****\n",
      "***\n",
      "**\n",
      "*\n"
     ]
    }
   ],
   "source": [
    "i = 0\n",
    "while(i < 5):\n",
    "    j = 5\n",
    "    while(j > i):\n",
    "        print(\"*\", end=\"\")\n",
    "        j -= 1\n",
    "    print()\n",
    "    i += 1"
   ]
  },
  {
   "cell_type": "code",
   "execution_count": 28,
   "id": "32184488",
   "metadata": {},
   "outputs": [
    {
     "name": "stdout",
     "output_type": "stream",
     "text": [
      "    *\n",
      "   ***\n",
      "  *****\n",
      " *******\n",
      "*********\n"
     ]
    }
   ],
   "source": [
    "i = 1\n",
    "while i <= 5:\n",
    "    j = 1\n",
    "    while j <= 5 - i:\n",
    "        print(\" \", end=\"\")\n",
    "        j += 1\n",
    "    k = 1\n",
    "    while k <= i * 2 - 1:\n",
    "        print(\"*\", end=\"\")\n",
    "        k += 1\n",
    "    print()\n",
    "    i += 1"
   ]
  },
  {
   "cell_type": "markdown",
   "id": "597762cb",
   "metadata": {},
   "source": [
    "7.Reverse a while loop to display numbers from 10 to 1"
   ]
  },
  {
   "cell_type": "code",
   "execution_count": 32,
   "id": "e7c51881",
   "metadata": {},
   "outputs": [
    {
     "name": "stdout",
     "output_type": "stream",
     "text": [
      "10\t\n",
      "9\t\n",
      "8\t\n",
      "7\t\n",
      "6\t\n",
      "5\t\n",
      "4\t\n",
      "3\t\n",
      "2\t\n",
      "1\t\n"
     ]
    }
   ],
   "source": [
    "i = 10\n",
    "while(i > 0):\n",
    "    print(f\"{i}\\t\")\n",
    "    i -= 1"
   ]
  }
 ],
 "metadata": {
  "kernelspec": {
   "display_name": "Python 3 (ipykernel)",
   "language": "python",
   "name": "python3"
  },
  "language_info": {
   "codemirror_mode": {
    "name": "ipython",
    "version": 3
   },
   "file_extension": ".py",
   "mimetype": "text/x-python",
   "name": "python",
   "nbconvert_exporter": "python",
   "pygments_lexer": "ipython3",
   "version": "3.9.13"
  }
 },
 "nbformat": 4,
 "nbformat_minor": 5
}
