{
 "cells": [
  {
   "cell_type": "markdown",
   "id": "41769de6",
   "metadata": {},
   "source": [
    "# Loops"
   ]
  },
  {
   "cell_type": "markdown",
   "id": "e39b0984",
   "metadata": {},
   "source": [
    "1.Explain with an example each when to use a for loop and a while loop."
   ]
  },
  {
   "cell_type": "markdown",
   "id": "dd2a2ac1",
   "metadata": {},
   "source": [
    "When to use a for loop:\n",
    "\n",
    "When you need to iterate over a sequence of values, such as a list, tuple, or string.\n",
    "When you know exactly how many times you need to execute the loop.\n",
    "\n",
    "When to use a while loop:\n",
    "\n",
    "When you need to repeat a block of code until a certain condition is met.\n",
    "When you don't know exactly how many times you need to execute the loop, or the number of times may change based on the input or other factors."
   ]
  },
  {
   "cell_type": "markdown",
   "id": "95530750",
   "metadata": {},
   "source": [
    "2.Write a python program to print the sum and product of the first 10 natural numbers using for and while loop."
   ]
  },
  {
   "cell_type": "code",
   "execution_count": 1,
   "id": "d10a8e5e",
   "metadata": {},
   "outputs": [
    {
     "name": "stdout",
     "output_type": "stream",
     "text": [
      "Sum --> 55\n",
      "Product --> 3628800\n"
     ]
    }
   ],
   "source": [
    "total_sum = 0\n",
    "total_product = 1\n",
    "\n",
    "for i in range(1,11):\n",
    "    total_sum += i\n",
    "    total_product *= i\n",
    "    \n",
    "print(f\"Sum --> {total_sum}\")\n",
    "print(f\"Product --> {total_product}\")"
   ]
  },
  {
   "cell_type": "markdown",
   "id": "f6001981",
   "metadata": {},
   "source": [
    "3.Create a python program to compute the electricity bill for a household.\n",
    "\n",
    "The per-unit charges in rupees are as follows: For the first 100 units, the user will be charged Rs. 4.5 per unit, for the next 100 units, the user will be charged Rs. 6 per unit, and for the next 100 units, the user will be charged Rs. 10 per unit, After 300 units and above the user will be charged Rs. 20 per unit.\n",
    "\n",
    "You are required to take the units of electricity consumed in a month from the user as input.\n",
    "\n",
    "Your program must pass this test case: when the unit of electricity consumed by the user in a month is 310, the total electricity bill should be 2250."
   ]
  },
  {
   "cell_type": "code",
   "execution_count": 3,
   "id": "99c83805",
   "metadata": {},
   "outputs": [
    {
     "name": "stdout",
     "output_type": "stream",
     "text": [
      "Enter the electricity bill:\n",
      "310\n",
      "2250.0\n"
     ]
    }
   ],
   "source": [
    "units = int(input(\"Enter the electricity bill:\\n\"))\n",
    "           \n",
    "if units <= 100:\n",
    "    bill = units * 4.5\n",
    "elif units <= 200:\n",
    "    bill = (100 * 4.5) + ((units - 100) * 6)\n",
    "elif units <= 300:\n",
    "    bill = (100 * 4.5) + (100 * 6) + ((units - 200) * 10)\n",
    "else:\n",
    "    bill = (100 * 4.5) + (100 * 6) + (100 * 10) + ((units - 300) * 20)\n",
    "    \n",
    "print(bill)"
   ]
  },
  {
   "cell_type": "markdown",
   "id": "be89fcaa",
   "metadata": {},
   "source": [
    "4.Create a list of numbers from 1 to 100. Use for loop and while loop to calculate the cube of each number and if the cube of that number is divisible by 4 or 5 the append that number in a list and print that list."
   ]
  },
  {
   "cell_type": "code",
   "execution_count": 4,
   "id": "0c41d95f",
   "metadata": {},
   "outputs": [
    {
     "name": "stdout",
     "output_type": "stream",
     "text": [
      "[2, 4, 5, 6, 8, 10, 12, 14, 15, 16, 18, 20, 22, 24, 25, 26, 28, 30, 32, 34, 35, 36, 38, 40, 42, 44, 45, 46, 48, 50, 52, 54, 55, 56, 58, 60, 62, 64, 65, 66, 68, 70, 72, 74, 75, 76, 78, 80, 82, 84, 85, 86, 88, 90, 92, 94, 95, 96, 98, 100]\n"
     ]
    }
   ],
   "source": [
    "final_list = []\n",
    "\n",
    "for i in range(1, 101):\n",
    "    if (i ** 3) % 4 == 0 or (i ** 3) % 5 == 0:\n",
    "        final_list.append(i)\n",
    "        \n",
    "print(final_list)"
   ]
  },
  {
   "cell_type": "code",
   "execution_count": 9,
   "id": "5b5f5ea6",
   "metadata": {},
   "outputs": [
    {
     "name": "stdout",
     "output_type": "stream",
     "text": [
      "[2, 4, 5, 6, 8, 10, 12, 14, 15, 16, 18, 20, 22, 24, 25, 26, 28, 30, 32, 34, 35, 36, 38, 40, 42, 44, 45, 46, 48, 50, 52, 54, 55, 56, 58, 60, 62, 64, 65, 66, 68, 70, 72, 74, 75, 76, 78, 80, 82, 84, 85, 86, 88, 90, 92, 94, 95, 96, 98, 100]\n"
     ]
    }
   ],
   "source": [
    "final_list2 = []\n",
    "i = 1\n",
    "\n",
    "while(i <= 100):\n",
    "    if (i ** 3) % 4 == 0 or (i ** 3) % 5 == 0:\n",
    "        final_list2.append(i)\n",
    "    i += 1\n",
    "        \n",
    "print(final_list2)"
   ]
  },
  {
   "cell_type": "markdown",
   "id": "f6845e16",
   "metadata": {},
   "source": [
    "5.Write a program to filter count vowels in the below-given sting.\n",
    "\n",
    "string = \"I want to become a data scientist\""
   ]
  },
  {
   "cell_type": "code",
   "execution_count": 21,
   "id": "9839486f",
   "metadata": {},
   "outputs": [
    {
     "name": "stdout",
     "output_type": "stream",
     "text": [
      "The number of vowels in the string is: 12\n"
     ]
    }
   ],
   "source": [
    "a_string = \"I want to become a data scientist\"\n",
    "count = 0\n",
    "\n",
    "for i in range(len(a_string)):\n",
    "    if a_string[i].lower() in ['a', 'e', 'i', 'o', 'u']:\n",
    "        count += 1\n",
    "        \n",
    "print(\"The number of vowels in the string is:\", count)"
   ]
  },
  {
   "cell_type": "code",
   "execution_count": null,
   "id": "e9c20f3f",
   "metadata": {},
   "outputs": [],
   "source": []
  }
 ],
 "metadata": {
  "kernelspec": {
   "display_name": "Python 3 (ipykernel)",
   "language": "python",
   "name": "python3"
  },
  "language_info": {
   "codemirror_mode": {
    "name": "ipython",
    "version": 3
   },
   "file_extension": ".py",
   "mimetype": "text/x-python",
   "name": "python",
   "nbconvert_exporter": "python",
   "pygments_lexer": "ipython3",
   "version": "3.9.13"
  }
 },
 "nbformat": 4,
 "nbformat_minor": 5
}
